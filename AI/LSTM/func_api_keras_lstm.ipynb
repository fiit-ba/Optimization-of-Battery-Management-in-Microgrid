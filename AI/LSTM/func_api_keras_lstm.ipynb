{
 "cells": [
  {
   "cell_type": "code",
   "execution_count": 28,
   "id": "9d819544",
   "metadata": {},
   "outputs": [],
   "source": [
    "import pandas as pd\n",
    "import numpy as np\n",
    "import matplotlib.pyplot as plt\n",
    "\n",
    "from tensorflow import keras \n",
    "from keras.layers import Input, Dense, Dropout, LSTM, ConvLSTM1D\n",
    "from keras.layers import Flatten\n",
    "from keras.layers.convolutional import Conv1D\n",
    "from keras.layers.pooling import MaxPooling1D\n",
    "import tensorflow as tf\n",
    "import tensorflow.keras.backend as K\n",
    "from tensorflow.keras.models import Model\n",
    "from sklearn.preprocessing import Normalizer\n",
    "from sklearn.preprocessing import MinMaxScaler\n",
    "from sklearn.preprocessing import StandardScaler\n"
   ]
  },
  {
   "cell_type": "code",
   "execution_count": 30,
   "id": "3e96d899",
   "metadata": {},
   "outputs": [],
   "source": [
    "def rmse(pred, actual):\n",
    "    error = np.subtract(pred, actual)\n",
    "    sqerror= np.sum(np.square(error))/actual.shape[0]\n",
    "    return np.sqrt(sqerror)"
   ]
  },
  {
   "cell_type": "code",
   "execution_count": 31,
   "id": "30d7059b",
   "metadata": {},
   "outputs": [],
   "source": [
    "def create_time_steps(length):\n",
    "    return list(range(-length, 0))\n",
    "\n",
    "def multi_step_plot(history, true_future, prediction):\n",
    "    plt.figure(figsize=(18, 6))\n",
    "    num_in = create_time_steps(len(history))\n",
    "    num_out = len(true_future)\n",
    "\n",
    "    plt.plot(num_in, history, label='History')\n",
    "    plt.plot(np.arange(num_out)/STEP, np.array(true_future), 'bo',\n",
    "           label='True Future')\n",
    "    if prediction.any():\n",
    "        plt.plot(np.arange(num_out)/STEP, np.array(prediction), 'ro',\n",
    "                 label='Predicted Future')\n",
    "    plt.legend(loc='upper left')\n",
    "    plt.show()"
   ]
  },
  {
   "cell_type": "code",
   "execution_count": 32,
   "id": "88870d2b",
   "metadata": {},
   "outputs": [],
   "source": [
    "def multivariate_data(dataset, target, start_index, end_index, history_size,\n",
    "                      target_size, step, single_step=False):\n",
    "    data = []\n",
    "    labels = []\n",
    "\n",
    "    start_index = start_index + history_size\n",
    "    if end_index is None:\n",
    "        end_index = len(dataset) - target_size\n",
    "\n",
    "    for i in range(start_index, end_index):\n",
    "        indices = range(i-history_size, i, step)\n",
    "        data.append(dataset[indices])\n",
    "\n",
    "        if single_step:\n",
    "            labels.append(target[i+target_size])\n",
    "        else:\n",
    "            labels.append(target[i:i+target_size])\n",
    "\n",
    "    return np.array(data), np.array(labels)"
   ]
  },
  {
   "cell_type": "code",
   "execution_count": 33,
   "id": "b666c216",
   "metadata": {},
   "outputs": [],
   "source": [
    "df = pd.read_csv(\"../../data/data_processed_cleaned.csv\")\n",
    "df['date'] = pd.to_datetime(df['date'], format='%Y/%m/%d %H:%M')\n",
    "\n",
    "df['fve'] = df['fve'] * 0.05\n",
    "df['mve'] = df['mve'] * 0.1\n",
    "df['wpg'] = df['wpg'] * 0.1\n",
    "\n",
    "df['production_usage'] = df['fve'] + df['mve'] + df['wpg'] \n"
   ]
  },
  {
   "cell_type": "code",
   "execution_count": null,
   "id": "96f709e1",
   "metadata": {},
   "outputs": [],
   "source": []
  },
  {
   "cell_type": "code",
   "execution_count": 34,
   "id": "d5e7f88c",
   "metadata": {},
   "outputs": [
    {
     "data": {
      "text/plain": [
       "['MinMaxScaler_alldata.save']"
      ]
     },
     "execution_count": 34,
     "metadata": {},
     "output_type": "execute_result"
    }
   ],
   "source": [
    "import joblib\n",
    "\n",
    "\n",
    "features_considered = [\n",
    "                    'price', 'isWeekend', \n",
    "                    'isHoliday',  'temp', 'wind','day_cos', 'day_sin',\n",
    "                    'month_cos', 'month_sin'\n",
    "                    ]\n",
    "features = df[features_considered]\n",
    "features.index = df['date']\n",
    "\n",
    "\n",
    "scaler = StandardScaler()\n",
    "scaler_2 = MinMaxScaler()\n",
    "prod_dataset = scaler.fit_transform(df['production_usage'].values.reshape(-1,1))\n",
    "prod_dataset = scaler_2.fit_transform(df['production_usage'].values.reshape(-1,1))\n",
    "\n",
    "\n",
    "joblib.dump(scaler, \"StandardScaler_production.save\") \n",
    "joblib.dump(scaler_2, \"MinMaxScaler_production.save\") \n",
    "\n",
    "# data_mean = prod_dataset.mean(axis=0)\n",
    "# data_std = prod_dataset.std(axis=0)\n",
    "# prod_dataset = (prod_dataset-data_mean)/data_std\n",
    "\n",
    "\n",
    "scaler = StandardScaler()\n",
    "scaler_2 = MinMaxScaler()\n",
    "cons_dataset = scaler.fit_transform(df['consumption_usage'].values.reshape(-1,1))\n",
    "cons_dataset = scaler_2.fit_transform(df['consumption_usage'].values.reshape(-1,1))\n",
    "\n",
    "joblib.dump(scaler, \"StandardScaler_consumption.save\") \n",
    "joblib.dump(scaler_2, \"MinMaxScaler_consumption.save\")\n",
    "\n",
    "# cons_dataset = df['consumption_usage'].values\n",
    "# data_mean = cons_dataset.mean(axis=0)\n",
    "# data_std = cons_dataset.std(axis=0)\n",
    "# cons_dataset = (cons_dataset-data_mean)/data_std\n",
    "\n",
    "\n",
    "scaler = StandardScaler()\n",
    "scaler_2 = MinMaxScaler()\n",
    "dataset = scaler.fit_transform(features.values)\n",
    "dataset = scaler_2.fit_transform(features.values)\n",
    "\n",
    "joblib.dump(scaler, \"StandardScaler_alldata.save\") \n",
    "joblib.dump(scaler_2, \"MinMaxScaler_alldata.save\")\n",
    "# dataset = features.values\n",
    "# data_mean = dataset.mean(axis=0)\n",
    "# data_std = dataset.std(axis=0)\n",
    "# dataset = (dataset-data_mean)/data_std"
   ]
  },
  {
   "cell_type": "code",
   "execution_count": 35,
   "id": "a7cedee3",
   "metadata": {},
   "outputs": [
    {
     "name": "stdout",
     "output_type": "stream",
     "text": [
      "0.0 1.0\n"
     ]
    },
    {
     "data": {
      "text/plain": [
       "(array([[8.0000e+00, 4.8000e+01, 1.2800e+02, 1.9680e+03, 1.2692e+04,\n",
       "         1.4852e+04, 4.3440e+03, 7.1600e+02, 2.1600e+02, 6.8000e+01],\n",
       "        [2.5152e+04, 0.0000e+00, 0.0000e+00, 0.0000e+00, 0.0000e+00,\n",
       "         0.0000e+00, 0.0000e+00, 0.0000e+00, 0.0000e+00, 9.8880e+03],\n",
       "        [3.3600e+04, 0.0000e+00, 0.0000e+00, 0.0000e+00, 0.0000e+00,\n",
       "         0.0000e+00, 0.0000e+00, 0.0000e+00, 0.0000e+00, 1.4400e+03],\n",
       "        [1.7200e+02, 8.5200e+02, 3.7360e+03, 6.2280e+03, 5.5440e+03,\n",
       "         6.5480e+03, 6.1880e+03, 4.1240e+03, 1.4080e+03, 2.4000e+02],\n",
       "        [6.9760e+03, 1.3268e+04, 8.3280e+03, 3.8320e+03, 1.5520e+03,\n",
       "         6.2400e+02, 2.8800e+02, 1.2800e+02, 3.6000e+01, 8.0000e+00],\n",
       "        [7.3000e+03, 2.9200e+03, 2.9200e+03, 2.9200e+03, 1.4600e+03,\n",
       "         1.4600e+03, 2.9200e+03, 2.9200e+03, 2.9200e+03, 7.3000e+03],\n",
       "        [7.3000e+03, 2.9200e+03, 2.9200e+03, 2.9200e+03, 0.0000e+00,\n",
       "         2.9200e+03, 2.9200e+03, 2.9200e+03, 2.9200e+03, 7.3000e+03],\n",
       "        [7.1830e+03, 3.1660e+03, 2.5900e+03, 2.3460e+03, 2.2470e+03,\n",
       "         2.2470e+03, 2.3460e+03, 2.4940e+03, 3.1660e+03, 7.2550e+03],\n",
       "        [7.1830e+03, 3.1660e+03, 2.5900e+03, 2.3460e+03, 2.2950e+03,\n",
       "         2.2710e+03, 2.3460e+03, 2.5900e+03, 3.1660e+03, 7.0870e+03]]),\n",
       " array([0. , 0.1, 0.2, 0.3, 0.4, 0.5, 0.6, 0.7, 0.8, 0.9, 1. ]),\n",
       " <a list of 9 BarContainer objects>)"
      ]
     },
     "execution_count": 35,
     "metadata": {},
     "output_type": "execute_result"
    },
    {
     "data": {
      "image/png": "[encoded data removed]",
      "text/plain": [
       "<Figure size 432x288 with 1 Axes>"
      ]
     },
     "metadata": {
      "needs_background": "light"
     },
     "output_type": "display_data"
    }
   ],
   "source": [
    "print(np.min(dataset), np.max(dataset))\n",
    "plt.hist(dataset)"
   ]
  },
  {
   "cell_type": "code",
   "execution_count": 44,
   "id": "11beb0d7",
   "metadata": {},
   "outputs": [],
   "source": [
    "past_history = 96\n",
    "future_target = 4\n",
    "STEP = 1\n",
    "#TRAIN_SPLIT = len(df) - future_target\n",
    "TRAIN_SPLIT = 24000\n",
    "\n",
    "\n",
    "\n",
    "x, y1 = multivariate_data(dataset, prod_dataset, 0,\n",
    "                                                   TRAIN_SPLIT, past_history,\n",
    "                                                   future_target, STEP,\n",
    "                                                   single_step=True)\n",
    "x, y2 = multivariate_data(dataset, cons_dataset, 0,\n",
    "                                                   TRAIN_SPLIT, past_history,\n",
    "                                                   future_target, STEP,\n",
    "                                                   single_step=True)\n",
    "x_val , y1_val = multivariate_data(dataset, prod_dataset,\n",
    "                                               TRAIN_SPLIT, None, past_history,\n",
    "                                               future_target, STEP,\n",
    "                                               single_step=True)\n",
    "x_val , y2_val = multivariate_data(dataset, cons_dataset,\n",
    "                                               TRAIN_SPLIT, None, past_history,\n",
    "                                               future_target, STEP,\n",
    "                                               single_step=True)"
   ]
  },
  {
   "cell_type": "code",
   "execution_count": 46,
   "id": "a1f4d36f",
   "metadata": {},
   "outputs": [
    {
     "data": {
      "text/plain": [
       "(10940, 96, 9)"
      ]
     },
     "execution_count": 46,
     "metadata": {},
     "output_type": "execute_result"
    }
   ],
   "source": [
    "x_val.shape"
   ]
  },
  {
   "cell_type": "code",
   "execution_count": 47,
   "id": "2235e80d",
   "metadata": {},
   "outputs": [
    {
     "name": "stdout",
     "output_type": "stream",
     "text": [
      "100/100 [==============================] - 4s 27ms/step - loss: 0.0403 - dense_2_loss: 0.0202 - dense_3_loss: 0.0200\n"
     ]
    }
   ],
   "source": [
    "# https://stackoverflow.com/questions/47596703/multiple-outputs-for-multi-step-ahead-time-series-prediction-with-keras-lstm\n",
    "\n",
    "\n",
    "inputs = Input(shape=(past_history,len(features_considered)))\n",
    "conv1 = Conv1D(16, kernel_size=4, activation='relu')(inputs)\n",
    "pool1 = MaxPooling1D(pool_size=2)(conv1)\n",
    "\n",
    "\n",
    "# # conv2 = Conv1D(64, kernel_size=4, activation='relu')(pool1)\n",
    "# # pool2 = MaxPooling1D(pool_size=2)(conv2)\n",
    "m = Dropout(0.2)(pool1)\n",
    "m = LSTM(256,  return_sequences=False)(m)\n",
    "# m = LSTM(256)(m)\n",
    "#m = Dense(96, activation='tanh')(m)\n",
    "outputA = Dense(future_target, activation='relu')(m)\n",
    "outputB = Dense(future_target, activation='relu')(m)\n",
    "\n",
    "m = Model(inputs=[inputs], outputs=[outputA, outputB])\n",
    "m.compile(optimizer='adam', loss='mse')\n",
    "\n",
    "\n",
    "history = m.fit(x,[y1,y2], epochs=1,steps_per_epoch=100)\n",
    "\n",
    "# test_scores = m.evaluate(x_val, [y1_val, y2_val], verbose=2)\n",
    "# print(\"Test loss:\", test_scores[0])\n",
    "# print(\"Test accuracy:\", test_scores[1])"
   ]
  },
  {
   "cell_type": "code",
   "execution_count": 19,
   "id": "022c5ecc",
   "metadata": {},
   "outputs": [],
   "source": [
    "#m.save(\"CNN_LSTM.h5\")"
   ]
  },
  {
   "cell_type": "code",
   "execution_count": 25,
   "id": "542aebc7",
   "metadata": {},
   "outputs": [
    {
     "data": {
      "text/plain": [
       "array([], dtype=float64)"
      ]
     },
     "execution_count": 25,
     "metadata": {},
     "output_type": "execute_result"
    }
   ],
   "source": [
    "x_val"
   ]
  },
  {
   "cell_type": "code",
   "execution_count": 48,
   "id": "0bd47a03",
   "metadata": {},
   "outputs": [],
   "source": [
    "pred = m.predict(x_val)"
   ]
  },
  {
   "cell_type": "code",
   "execution_count": 57,
   "id": "038d48bf",
   "metadata": {},
   "outputs": [
    {
     "data": {
      "text/plain": [
       "10940"
      ]
     },
     "execution_count": 57,
     "metadata": {},
     "output_type": "execute_result"
    }
   ],
   "source": [
    "len(pred[0])"
   ]
  },
  {
   "cell_type": "code",
   "execution_count": 58,
   "id": "24aa49c8",
   "metadata": {},
   "outputs": [
    {
     "data": {
      "text/plain": [
       "10940"
      ]
     },
     "execution_count": 58,
     "metadata": {},
     "output_type": "execute_result"
    }
   ],
   "source": [
    "len(x_val)"
   ]
  },
  {
   "cell_type": "code",
   "execution_count": 52,
   "id": "3c80f50c",
   "metadata": {},
   "outputs": [
    {
     "name": "stderr",
     "output_type": "stream",
     "text": [
      "<ipython-input-52-8ffa35d5544e>:4: VisibleDeprecationWarning: Creating an ndarray from ragged nested sequences (which is a list-or-tuple of lists-or-tuples-or ndarrays with different lengths or shapes) is deprecated. If you meant to do this, you must specify 'dtype=object' when creating the ndarray.\n",
      "  actual = np.array(actual)\n"
     ]
    }
   ],
   "source": [
    "actual = []\n",
    "for index,val in enumerate(y1_val):\n",
    "    actual.append([y1_val[index:index+4]])\n",
    "actual = np.array(actual)"
   ]
  },
  {
   "cell_type": "code",
   "execution_count": 53,
   "id": "3237a2f3",
   "metadata": {},
   "outputs": [
    {
     "data": {
      "text/plain": [
       "array([[0.47307114],\n",
       "       [0.47316618],\n",
       "       [0.47337286],\n",
       "       [0.47368306]])"
      ]
     },
     "execution_count": 53,
     "metadata": {},
     "output_type": "execute_result"
    }
   ],
   "source": [
    "rmse(pred[0][:-4],actual[:-4])"
   ]
  },
  {
   "cell_type": "code",
   "execution_count": 54,
   "id": "9c162e71",
   "metadata": {},
   "outputs": [
    {
     "data": {
      "image/png": "[encoded data removed]",
      "text/plain": [
       "<Figure size 1296x432 with 1 Axes>"
      ]
     },
     "metadata": {
      "needs_background": "light"
     },
     "output_type": "display_data"
    }
   ],
   "source": [
    "multi_step_plot(prod_dataset[TRAIN_SPLIT:][:96], y1_val[:600], pred[0][:600])"
   ]
  },
  {
   "cell_type": "code",
   "execution_count": null,
   "id": "fed0c46a",
   "metadata": {},
   "outputs": [],
   "source": [
    "multi_step_plot(prod_dataset[TRAIN_SPLIT:][:96], y1_val, pred[0])"
   ]
  },
  {
   "cell_type": "code",
   "execution_count": null,
   "id": "1ab1827a",
   "metadata": {},
   "outputs": [],
   "source": [
    "multi_step_plot(cons_dataset[TRAIN_SPLIT:][:96], y2_val[:600], pred[1][:600])"
   ]
  },
  {
   "cell_type": "code",
   "execution_count": null,
   "id": "469bff9e",
   "metadata": {},
   "outputs": [],
   "source": [
    "multi_step_plot(cons_dataset[TRAIN_SPLIT:][:96], y2_val, pred[1])"
   ]
  },
  {
   "cell_type": "code",
   "execution_count": null,
   "id": "b9cc1647",
   "metadata": {},
   "outputs": [],
   "source": []
  }
 ],
 "metadata": {
  "kernelspec": {
   "display_name": "Python 3",
   "language": "python",
   "name": "python3"
  },
  "language_info": {
   "codemirror_mode": {
    "name": "ipython",
    "version": 3
   },
   "file_extension": ".py",
   "mimetype": "text/x-python",
   "name": "python",
   "nbconvert_exporter": "python",
   "pygments_lexer": "ipython3",
   "version": "3.8.12"
  }
 },
 "nbformat": 4,
 "nbformat_minor": 5
}
