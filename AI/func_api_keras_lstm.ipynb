{
 "cells": [
  {
   "cell_type": "code",
   "execution_count": 1,
   "id": "9d819544",
   "metadata": {},
   "outputs": [],
   "source": [
    "import pandas as pd\n",
    "import numpy as np\n",
    "import matplotlib.pyplot as plt\n",
    "\n",
    "from tensorflow import keras \n",
    "from keras.layers import Input, Dense, Dropout, LSTM\n",
    "import tensorflow as tf\n",
    "import tensorflow.keras.backend as K\n",
    "from tensorflow.keras.models import Model"
   ]
  },
  {
   "cell_type": "code",
   "execution_count": 2,
   "id": "88870d2b",
   "metadata": {},
   "outputs": [],
   "source": [
    "def multivariate_data(dataset, target, start_index, end_index, history_size,\n",
    "                      target_size, step, single_step=False):\n",
    "    data = []\n",
    "    labels = []\n",
    "\n",
    "    start_index = start_index + history_size\n",
    "    if end_index is None:\n",
    "        end_index = len(dataset) - target_size\n",
    "\n",
    "    for i in range(start_index, end_index):\n",
    "        indices = range(i-history_size, i, step)\n",
    "        data.append(dataset[indices])\n",
    "\n",
    "        if single_step:\n",
    "            labels.append(target[i+target_size])\n",
    "        else:\n",
    "            labels.append(target[i:i+target_size])\n",
    "\n",
    "    return np.array(data), np.array(labels)"
   ]
  },
  {
   "cell_type": "code",
   "execution_count": 3,
   "id": "b666c216",
   "metadata": {},
   "outputs": [],
   "source": [
    "df = pd.read_csv(\"../data/data_processed_cleaned.csv\")\n",
    "df['date'] = pd.to_datetime(df['date'], format='%Y/%m/%d %H:%M')\n",
    "\n",
    "df['fve'] = df['fve'] * 0.03\n",
    "df['mve'] = df['mve'] * 0.07\n",
    "df['wpg'] = df['wpg'] * 0.07\n",
    "\n",
    "df['production_usage'] = df['fve'] + df['mve'] + df['wpg'] \n",
    "TRAIN_SPLIT = 29000"
   ]
  },
  {
   "cell_type": "code",
   "execution_count": 4,
   "id": "d5e7f88c",
   "metadata": {},
   "outputs": [],
   "source": [
    "features_considered = ['price', 'isWeekend', 'isHoliday','temp', 'wind', 'day_cos', 'day_sin', 'month_cos', 'month_sin']\n",
    "features = df[features_considered]\n",
    "features.index = df['date']\n",
    "\n",
    "prod_dataset = df['production_usage'].values\n",
    "data_mean = prod_dataset.mean(axis=0)\n",
    "data_std = prod_dataset.std(axis=0)\n",
    "prod_dataset = (prod_dataset-data_mean)/data_std\n",
    "\n",
    "\n",
    "cons_dataset = df['consumption_usage'].values\n",
    "data_mean = cons_dataset.mean(axis=0)\n",
    "data_std = cons_dataset.std(axis=0)\n",
    "cons_dataset = (cons_dataset-data_mean)/data_std\n",
    "\n",
    "dataset = features.values\n",
    "data_mean = dataset.mean(axis=0)\n",
    "data_std = dataset.std(axis=0)\n",
    "dataset = (dataset-data_mean)/data_std"
   ]
  },
  {
   "cell_type": "code",
   "execution_count": 5,
   "id": "11beb0d7",
   "metadata": {},
   "outputs": [],
   "source": [
    "past_history = 96\n",
    "future_target = 4\n",
    "STEP = 1\n",
    "\n",
    "\n",
    "x, y1 = multivariate_data(dataset, prod_dataset, 0,\n",
    "                                                   TRAIN_SPLIT, past_history,\n",
    "                                                   future_target, STEP,\n",
    "                                                   single_step=True)\n",
    "x, y2 = multivariate_data(dataset, cons_dataset, 0,\n",
    "                                                   TRAIN_SPLIT, past_history,\n",
    "                                                   future_target, STEP,\n",
    "                                                   single_step=True)\n",
    "x_val , y1_val = multivariate_data(dataset, prod_dataset,\n",
    "                                               TRAIN_SPLIT, None, past_history,\n",
    "                                               future_target, STEP,\n",
    "                                               single_step=True)\n",
    "x_val , y2_val = multivariate_data(dataset, cons_dataset,\n",
    "                                               TRAIN_SPLIT, None, past_history,\n",
    "                                               future_target, STEP,\n",
    "                                               single_step=True)"
   ]
  },
  {
   "cell_type": "code",
   "execution_count": 9,
   "id": "2235e80d",
   "metadata": {},
   "outputs": [
    {
     "name": "stdout",
     "output_type": "stream",
     "text": [
      "Epoch 1/10\n",
      "100/100 [==============================] - 8s 68ms/step - loss: 1.1658 - dense_5_loss: 0.6643 - dense_6_loss: 0.5015\n",
      "Epoch 2/10\n",
      "100/100 [==============================] - 6s 62ms/step - loss: 0.7698 - dense_5_loss: 0.4197 - dense_6_loss: 0.3500\n",
      "Epoch 3/10\n",
      "100/100 [==============================] - 6s 62ms/step - loss: 0.6701 - dense_5_loss: 0.3473 - dense_6_loss: 0.3228\n",
      "Epoch 4/10\n",
      "100/100 [==============================] - 6s 62ms/step - loss: 0.5849 - dense_5_loss: 0.2915 - dense_6_loss: 0.2934\n",
      "Epoch 5/10\n",
      "100/100 [==============================] - 6s 62ms/step - loss: 0.5329 - dense_5_loss: 0.2741 - dense_6_loss: 0.2589\n",
      "Epoch 6/10\n",
      "100/100 [==============================] - 6s 62ms/step - loss: 0.5033 - dense_5_loss: 0.2612 - dense_6_loss: 0.2422\n",
      "Epoch 7/10\n",
      "100/100 [==============================] - 6s 62ms/step - loss: 0.4669 - dense_5_loss: 0.2475 - dense_6_loss: 0.2194\n",
      "Epoch 8/10\n",
      "100/100 [==============================] - 6s 62ms/step - loss: 0.4440 - dense_5_loss: 0.2365 - dense_6_loss: 0.2075\n",
      "Epoch 9/10\n",
      "100/100 [==============================] - 6s 62ms/step - loss: 0.4356 - dense_5_loss: 0.2341 - dense_6_loss: 0.2014\n",
      "Epoch 10/10\n",
      "100/100 [==============================] - 6s 62ms/step - loss: 0.4068 - dense_5_loss: 0.2212 - dense_6_loss: 0.1856\n",
      "186/186 - 5s - loss: 1.2598 - dense_5_loss: 0.5701 - dense_6_loss: 0.6896 - 5s/epoch - 25ms/step\n",
      "Test loss: 1.2597633600234985\n",
      "Test accuracy: 0.5701166391372681\n"
     ]
    }
   ],
   "source": [
    "# https://stackoverflow.com/questions/47596703/multiple-outputs-for-multi-step-ahead-time-series-prediction-with-keras-lstm\n",
    "\n",
    "inputs = Input(shape=(past_history,len(features_considered))) \n",
    "m = LSTM(64,  return_sequences=True)(inputs)\n",
    "m = Dropout(0.3)(m)\n",
    "m = LSTM(64)(m)\n",
    "m = Dropout(0.2)(m)\n",
    "outputA = Dense(future_target, activation='tanh')(m)\n",
    "outputB = Dense(future_target, activation='tanh')(m)\n",
    "\n",
    "m = Model(inputs=[inputs], outputs=[outputA, outputB])\n",
    "m.compile(optimizer='adam', loss='mse')\n",
    "\n",
    "\n",
    "history = m.fit(x,[y1,y2], epochs=10,steps_per_epoch=100)\n",
    "\n",
    "test_scores = m.evaluate(x_val, [y1_val, y2_val], verbose=2)\n",
    "print(\"Test loss:\", test_scores[0])\n",
    "print(\"Test accuracy:\", test_scores[1])"
   ]
  }
 ],
 "metadata": {
  "kernelspec": {
   "display_name": "Python 3",
   "language": "python",
   "name": "python3"
  },
  "language_info": {
   "codemirror_mode": {
    "name": "ipython",
    "version": 3
   },
   "file_extension": ".py",
   "mimetype": "text/x-python",
   "name": "python",
   "nbconvert_exporter": "python",
   "pygments_lexer": "ipython3",
   "version": "3.8.12"
  }
 },
 "nbformat": 4,
 "nbformat_minor": 5
}
