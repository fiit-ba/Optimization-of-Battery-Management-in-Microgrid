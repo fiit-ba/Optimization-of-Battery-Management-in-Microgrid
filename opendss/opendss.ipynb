{
 "cells": [
  {
   "cell_type": "code",
   "execution_count": 1,
   "metadata": {},
   "outputs": [],
   "source": [
    "import numpy as np \n",
    "import pandas as pd \n",
    "import matplotlib.pyplot as plt \n",
    "import seaborn as sns \n",
    "import scipy.stats as s\n",
    "import matplotlib.patches as mpatches\n",
    "import math\n",
    "import csv\n",
    "import os\n",
    "import opendssdirect as dss\n",
    "from opendssdirect.utils import run_command\n",
    "import types\n",
    "\n",
    "import inspect"
   ]
  },
  {
   "cell_type": "code",
   "execution_count": 2,
   "metadata": {},
   "outputs": [],
   "source": [
    "# import win32com.client\n",
    "# dssObj = win32com.client.Dispatch('OpenDSSEngine.DSS')\n",
    "# DSSText = dssObj.Text\n",
    "# DSSCircuit = dssObj.ActiveCircuit\n",
    "# DSSSolution = DSSCircuit.Solution\n",
    "# DSSElem = DSSCircuit.ActiveCktElement"
   ]
  },
  {
   "cell_type": "code",
   "execution_count": 3,
   "metadata": {},
   "outputs": [],
   "source": [
    "# DSSText.Command = \"CD c:\\\\Users\\\\william.brach\\\\Developer\\\\creating-microgrid-dataset\\\\opendss\""
   ]
  },
  {
   "cell_type": "code",
   "execution_count": 4,
   "metadata": {},
   "outputs": [],
   "source": [
    "# DSSText.Command = \"Compile 'microgrid.dss'\""
   ]
  },
  {
   "cell_type": "code",
   "execution_count": 5,
   "metadata": {},
   "outputs": [],
   "source": [
    "#DSSText.Command='Plot Loadshape Object=officeLoad'\n",
    "#DSSText.Command='Plot Loadshape Object=industrialParkLoad'\n",
    "#DSSText.Command='Plot Loadshape Object=shopsLoad'\n",
    "\n",
    "# DSSText.Command='Plot Loadshape Object=mveLoad'\n",
    "# DSSText.Command='Plot Loadshape Object=fveLoad'\n",
    "# DSSText.Command='Plot Loadshape Object=wpgLoad'\n"
   ]
  },
  {
   "cell_type": "markdown",
   "metadata": {},
   "source": [
    "## Batery"
   ]
  },
  {
   "cell_type": "code",
   "execution_count": 6,
   "metadata": {},
   "outputs": [],
   "source": [
    "# DSSText.Command= 'new storage.baterry bus=701 kV=0.4 Phases=3 kwRated=2000 kWhrated=50000 kWhstored=2000 vminpu=0.80 vmaxpu=1.20  %reserve=1  %effcharge=100   %effdischarge=100   %IdlingkW=0   enabled=yes';  \n",
    "# DSSText.Command= 'new StorageController.scbattery element=Line.L1  Terminal=1 Elementlist=[baterry]  modedischarge=Peakshave kWTarget=20 modeCharge=PeakShaveLow kWTargetlow=0   InhibitTime=1';\n"
   ]
  },
  {
   "cell_type": "markdown",
   "metadata": {},
   "source": [
    "## Monitors"
   ]
  },
  {
   "cell_type": "code",
   "execution_count": 7,
   "metadata": {},
   "outputs": [],
   "source": [
    "# # load monitors\n",
    "# DSSText.Command= 'New Monitor.metoffice  element=Load.officeBuilding  ppolar=no mode=65';\n",
    "# DSSText.Command= 'New Monitor.metshops  element=Load.shops  ppolar=no mode=65';\n",
    "# DSSText.Command= 'New Monitor.metpark element=Load.industrialPark  ppolar=no mode=65';\n",
    "# DSSText.Command= 'New Monitor.trafo  element=Line.L1  ppolar=no mode=65';\n",
    "# # batery monitor\n",
    "# # DSSText.Command= 'New Monitor.baterry  element=storage.baterry   mode=3';\n"
   ]
  },
  {
   "cell_type": "markdown",
   "metadata": {},
   "source": [
    "## Solution Settings"
   ]
  },
  {
   "cell_type": "code",
   "execution_count": 8,
   "metadata": {},
   "outputs": [],
   "source": [
    "# # # DSSSolution.MaxControlIterations=1000;\n",
    "# # # DSSSolution.maxiterations=1000;\n",
    "# DSSText.Command = 'Set controlmode=time' ;\n",
    "# DSSText.Command = 'Set mode=daily ';\n",
    "# DSSText.Command = 'Set stepsize=15m';\n",
    "# DSSText.Command = 'Set number=19968';\n",
    "# # #Originalsteps=DSSSolution.Number\n",
    "# # #Originalsteps"
   ]
  },
  {
   "cell_type": "code",
   "execution_count": 9,
   "metadata": {},
   "outputs": [],
   "source": [
    "# DSSSolution.Solve();"
   ]
  },
  {
   "cell_type": "markdown",
   "metadata": {},
   "source": [
    "## Plots"
   ]
  },
  {
   "cell_type": "code",
   "execution_count": 10,
   "metadata": {},
   "outputs": [],
   "source": [
    "# #DSSText.Command = 'Plot monitor object=metoffice';\n",
    "# #DSSText.Command = 'Plot monitor object=metshops';\n",
    "# #DSSText.Command = 'Plot monitor object=metpark';\n",
    "#DSSText.Command = 'Plot monitor object=trafo';\n",
    "\n",
    "# #DSSText.Command = 'Export monitor object=metoffice';\n",
    "# # DSSText.Command = 'Export monitor object=baterry';"
   ]
  },
  {
   "cell_type": "code",
   "execution_count": 11,
   "metadata": {},
   "outputs": [],
   "source": [
    "# DSSText.Command = 'Plot monitor object=baterry channels=(2,3,4)';\n",
    "# DSSText.Command = 'Plot monitor object=baterry channels=(1)';"
   ]
  },
  {
   "cell_type": "code",
   "execution_count": 12,
   "metadata": {},
   "outputs": [],
   "source": [
    "grid = run_command('Redirect  C:\\\\Users\\\\william.brach\\\\Developer\\\\creating-microgrid-dataset\\\\opendss');"
   ]
  },
  {
   "cell_type": "code",
   "execution_count": 13,
   "metadata": {},
   "outputs": [
    {
     "data": {
      "text/plain": [
       "''"
      ]
     },
     "execution_count": 13,
     "metadata": {},
     "output_type": "execute_result"
    }
   ],
   "source": [
    "run_command(\"Compile 'microgrid.dss'\")"
   ]
  },
  {
   "cell_type": "markdown",
   "metadata": {},
   "source": [
    "# LOADS"
   ]
  },
  {
   "cell_type": "code",
   "execution_count": 14,
   "metadata": {},
   "outputs": [
    {
     "data": {
      "text/plain": [
       "''"
      ]
     },
     "execution_count": 14,
     "metadata": {},
     "output_type": "execute_result"
    }
   ],
   "source": [
    "# Loads\n",
    "LOADS_ENABLED='Yes'\n",
    "dss.run_command('New Load.{name} Bus1={bus} Phases=3 Conn=wye Model=1 kV=0.4  pf=0.98  daily={daily} Vminpu=0.5 Vmaxpu=3 enabled={enabled}'.format(\n",
    "    name='officeBuilding',\n",
    "    bus='712',\n",
    "    daily='officeLoad',\n",
    "    enabled=LOADS_ENABLED\n",
    "))\n",
    "dss.run_command('New Load.{name} Bus1={bus} Phases=3 Conn=wye Model=1 kV=0.4  pf=0.98  daily={daily} Vminpu=0.5 Vmaxpu=3 enabled={enabled}'.format(\n",
    "    name='industrialPark',\n",
    "    bus='705',\n",
    "    daily='industrialParkLoad',\n",
    "    enabled=LOADS_ENABLED\n",
    "))\n",
    "dss.run_command('New Load.{name} Bus1={bus} Phases=3 Conn=wye Model=1 kV=0.4  pf=0.98  daily={daily} Vminpu=0.5 Vmaxpu=3 enabled={enabled}'.format(\n",
    "    name='shops',\n",
    "    bus='713',\n",
    "    daily='shopsLoad',\n",
    "    enabled=LOADS_ENABLED\n",
    "))"
   ]
  },
  {
   "cell_type": "markdown",
   "metadata": {},
   "source": [
    "# GENERATORS"
   ]
  },
  {
   "cell_type": "code",
   "execution_count": 15,
   "metadata": {},
   "outputs": [
    {
     "data": {
      "text/plain": [
       "''"
      ]
     },
     "execution_count": 15,
     "metadata": {},
     "output_type": "execute_result"
    }
   ],
   "source": [
    "GENERATORS_ENABLED='Yes'\n",
    "dss.run_command('New Generator.{name} Bus1={bus} Phases=3 Conn=wye Model=1 kV=0.4  pf=0.98 kw={kw} daily={daily} Vminpu=0.5 Vmaxpu=3 enabled={enabled}'.format(\n",
    "    name='fve',\n",
    "    bus='705',\n",
    "    daily='fveLoad',\n",
    "    enabled=GENERATORS_ENABLED,\n",
    "    kw=0.02\n",
    "))\n",
    "dss.run_command('New Generator.{name} Bus1={bus} Phases=3 Conn=wye Model=1 kV=0.4  pf=0.98 kw={kw} daily={daily} Vminpu=0.5 Vmaxpu=3 enabled={enabled}'.format(\n",
    "    name='mve',\n",
    "    bus='701',\n",
    "    daily='mveLoad',\n",
    "    enabled=GENERATORS_ENABLED,\n",
    "    kw=0.06\n",
    "))\n",
    "dss.run_command('New Generator.{name} Bus1={bus} Phases=3 Conn=wye Model=1 kV=0.4  pf=0.98 kw={kw} daily={daily} Vminpu=0.5 Vmaxpu=3 enabled={enabled}'.format(\n",
    "    name='wpg',\n",
    "    bus='714',\n",
    "    daily='wpgLoad',\n",
    "    enabled=GENERATORS_ENABLED,\n",
    "    kw=0.06\n",
    "))"
   ]
  },
  {
   "cell_type": "markdown",
   "metadata": {},
   "source": [
    "# BATERY"
   ]
  },
  {
   "cell_type": "code",
   "execution_count": 16,
   "metadata": {},
   "outputs": [
    {
     "data": {
      "text/plain": [
       "''"
      ]
     },
     "execution_count": 16,
     "metadata": {},
     "output_type": "execute_result"
    }
   ],
   "source": [
    "dss.run_command('new storage.baterry bus=701 kV=0.4 Phases=3 kwRated=50 kWhrated=200 kWhstored=50 vminpu=0.80 vmaxpu=1.20  %reserve=1  %effcharge=100   %effdischarge=100   %IdlingkW=0   enabled=yes')\n",
    "dss.run_command('new StorageController.scbattery element=Line.L1  Terminal=1 Elementlist=[baterry]  modedischarge=Peakshave kWTarget=20 modeCharge=PeakShaveLow kWTargetlow=0   InhibitTime=1')"
   ]
  },
  {
   "cell_type": "markdown",
   "metadata": {},
   "source": [
    "# MONITORS"
   ]
  },
  {
   "cell_type": "code",
   "execution_count": 17,
   "metadata": {},
   "outputs": [
    {
     "data": {
      "text/plain": [
       "''"
      ]
     },
     "execution_count": 17,
     "metadata": {},
     "output_type": "execute_result"
    }
   ],
   "source": [
    "# load monitors\n",
    "#New Monitor.metoffice  element=Load.officeBuilding  ppolar=no mode=65\n",
    "# dss.run_command('New Monitor.{name}  element=Load.{elementname}  ppolar=no mode=65 enabled={enabled}'.format(\n",
    "#     name='metoffice',\n",
    "#     elementname='officeBuilding',\n",
    "#     enabled='Yes'\n",
    "# ))\n",
    "# dss.run_command('New Monitor.{name}  element=Load.{elementname}  ppolar=no mode=65 enabled={enabled}'.format(\n",
    "#     name='metshops',\n",
    "#     elementname='shops',\n",
    "#     enabled='Yes'\n",
    "# ))\n",
    "# dss.run_command('New Monitor.{name}  element=Load.{elementname}  ppolar=no mode=65 enabled={enabled}'.format(\n",
    "#     name='metpark',\n",
    "#     elementname='industrialPark',\n",
    "#     enabled='Yes'\n",
    "# ))\n",
    "dss.run_command('New Monitor.{name}  element=Line.{elementname}  ppolar=no mode=65 enabled={enabled}'.format(\n",
    "    name='trafo',\n",
    "    elementname='L1',\n",
    "    enabled='Yes'\n",
    "))\n",
    "dss.run_command('New Monitor.baterry  element=storage.baterry   mode=3')"
   ]
  },
  {
   "cell_type": "code",
   "execution_count": 18,
   "metadata": {},
   "outputs": [
    {
     "data": {
      "text/plain": [
       "''"
      ]
     },
     "execution_count": 18,
     "metadata": {},
     "output_type": "execute_result"
    }
   ],
   "source": [
    "dss.run_command('Set controlmode=time')\n",
    "dss.run_command('Set mode=daily ')\n",
    "dss.run_command('Set stepsize=15m')\n",
    "dss.run_command('Set number=2880')"
   ]
  },
  {
   "cell_type": "code",
   "execution_count": 19,
   "metadata": {},
   "outputs": [],
   "source": [
    "dss.run_command('Solve');"
   ]
  },
  {
   "cell_type": "code",
   "execution_count": 20,
   "metadata": {},
   "outputs": [],
   "source": [
    "x = dss.run_command('Export monitor object=trafo')\n",
    "batery = dss.run_command('Export monitor object=baterry')"
   ]
  },
  {
   "cell_type": "code",
   "execution_count": 21,
   "metadata": {},
   "outputs": [
    {
     "data": {
      "text/plain": [
       "'C:\\\\Users\\\\william.brach\\\\Developer\\\\Microgrid-cerebrum\\\\opendss\\\\baterka_Mon_baterry.csv'"
      ]
     },
     "execution_count": 21,
     "metadata": {},
     "output_type": "execute_result"
    }
   ],
   "source": [
    "batery"
   ]
  },
  {
   "cell_type": "code",
   "execution_count": 22,
   "metadata": {
    "scrolled": true
   },
   "outputs": [],
   "source": [
    "df = pd.read_csv(x)\n",
    "batery = pd.read_csv(batery)"
   ]
  },
  {
   "cell_type": "code",
   "execution_count": 23,
   "metadata": {},
   "outputs": [
    {
     "data": {
      "text/plain": [
       "Index(['hour', ' t(sec)', ' P1 (kW)', ' Q1 (kvar)'], dtype='object')"
      ]
     },
     "execution_count": 23,
     "metadata": {},
     "output_type": "execute_result"
    }
   ],
   "source": [
    "df.columns"
   ]
  },
  {
   "cell_type": "code",
   "execution_count": 24,
   "metadata": {},
   "outputs": [],
   "source": [
    "priceDf = pd.read_csv(\"price.csv\",delimiter=';')\n",
    "price = priceDf[priceDf['Delivery day'] == '2.4.2021']['Price (€/MWh)']\n",
    "price = price.append(price)\n",
    "price = price.append(price)\n",
    "price = price.sort_index().reset_index().drop(columns={'index'})['Price (€/MWh)']"
   ]
  },
  {
   "cell_type": "code",
   "execution_count": 25,
   "metadata": {},
   "outputs": [],
   "source": [
    "# from matplotlib import cm\n",
    "# ax = plt.plot(range(0,96),kw.T,alpha=0.1,color=\"red\")\n",
    "# #ax = plt.plot(range(0,96),kwGenerator.T,alpha=0.1,color=\"green\")"
   ]
  },
  {
   "cell_type": "code",
   "execution_count": 66,
   "metadata": {},
   "outputs": [
    {
     "data": {
      "text/plain": [
       "0     50.0005\n",
       "1      0.0000\n",
       "2      0.0000\n",
       "3      0.0000\n",
       "4      0.0000\n",
       "       ...   \n",
       "91    49.9998\n",
       "92    50.0003\n",
       "93    49.9999\n",
       "94    49.9995\n",
       "95    50.0001\n",
       "Name: kWIn, Length: 96, dtype: float64"
      ]
     },
     "execution_count": 66,
     "metadata": {},
     "output_type": "execute_result"
    }
   ],
   "source": [
    "b_in"
   ]
  },
  {
   "cell_type": "code",
   "execution_count": 141,
   "metadata": {},
   "outputs": [],
   "source": [
    "kw = df[' P1 (kW)'][2*96:(2+1)*96]\n",
    "b = batery['kWOut'][2*96:(2+1)*96]\n",
    "b_in = batery['kWIn'][2*96:(2+1)*96]\n",
    "b_in[1:5] = 50\n",
    "b_in.index = range(0,96)\n",
    "b.index = range(0,96)\n",
    "kw.index = range(0,96)\n",
    "plus = kw[kw > 0]\n",
    "minus = kw[kw <= 0].multiply(-1)\n",
    "b = b.multiply(1)"
   ]
  },
  {
   "cell_type": "code",
   "execution_count": 144,
   "metadata": {},
   "outputs": [
    {
     "data": {
      "image/png": "[encoded data removed]",
      "text/plain": [
       "<Figure size 640x480 with 1 Axes>"
      ]
     },
     "metadata": {},
     "output_type": "display_data"
    }
   ],
   "source": [
    "import matplotlib.pyplot as plt\n",
    "\n",
    "p1 = plt.fill_between(plus.index,plus, 0, alpha=0.5,color=\"red\")\n",
    "p2 = plt.fill_between(minus.index[:34],minus[:34], 0, alpha=0.5,color=\"green\")\n",
    "p3 = plt.fill_between(minus.index[35:],minus[35:], 0, alpha=0.5,color=\"green\")\n",
    "p4 = plt.fill_between(b.index[36:54],b[36:54],alpha=1,facecolor=\"red\",edgecolor=\"darkred\", linewidth=1.0)\n",
    "\n",
    "p6 = plt.fill_between(b_in.index[80:],b_in[80:],alpha=1,facecolor=\"green\",edgecolor=\"darkgreen\", linewidth=1.0)\n",
    "p5 = plt.fill_between(b_in.index[:6],b_in[:6],alpha=1,facecolor=\"green\",edgecolor=\"darkgreen\", linewidth=1.0)\n",
    "\n",
    "red_patch = mpatches.Patch(color='red',alpha=0.5, label='Chýbajúca elektrická energia')\n",
    "green_patch = mpatches.Patch(color='green',alpha=0.5, label='Prebytočná elektrická energia')\n",
    "darkgreen_patch = mpatches.Patch(color='darkgreen', label='Nabíjanie akumulátora')\n",
    "darkred_patch = mpatches.Patch(color='darkred', label='Vybíjanie akumulátora')\n",
    "plt.legend(handles=[red_patch,green_patch, darkgreen_patch, darkred_patch],bbox_to_anchor = (1.55, 0.6))\n",
    "\n",
    "plt.xlabel(\"Meranie\")\n",
    "plt.ylabel(\"Výkon (kW)\")\n",
    "plt.title(\"Denný priebeh s pridaním akumulátora\")\n",
    "plt.savefig(\"graf_2.png\")\n",
    "plt.show()\n"
   ]
  },
  {
   "cell_type": "code",
   "execution_count": 135,
   "metadata": {},
   "outputs": [],
   "source": [
    "run_command(\"Compile 'microgrid.dss'\")\n",
    "# Loads\n",
    "LOADS_ENABLED='Yes'\n",
    "dss.run_command('New Load.{name} Bus1={bus} Phases=3 Conn=wye Model=1 kV=0.4  pf=0.98  daily={daily} Vminpu=0.5 Vmaxpu=3 enabled={enabled}'.format(\n",
    "    name='officeBuilding',\n",
    "    bus='712',\n",
    "    daily='officeLoad',\n",
    "    enabled=LOADS_ENABLED\n",
    "))\n",
    "dss.run_command('New Load.{name} Bus1={bus} Phases=3 Conn=wye Model=1 kV=0.4  pf=0.98  daily={daily} Vminpu=0.5 Vmaxpu=3 enabled={enabled}'.format(\n",
    "    name='industrialPark',\n",
    "    bus='705',\n",
    "    daily='industrialParkLoad',\n",
    "    enabled=LOADS_ENABLED\n",
    "))\n",
    "dss.run_command('New Load.{name} Bus1={bus} Phases=3 Conn=wye Model=1 kV=0.4  pf=0.98  daily={daily} Vminpu=0.5 Vmaxpu=3 enabled={enabled}'.format(\n",
    "    name='shops',\n",
    "    bus='713',\n",
    "    daily='shopsLoad',\n",
    "    enabled=LOADS_ENABLED\n",
    "))\n",
    "GENERATORS_ENABLED='Yes'\n",
    "dss.run_command('New Generator.{name} Bus1={bus} Phases=3 Conn=wye Model=1 kV=0.4  pf=0.98 kw={kw} daily={daily} Vminpu=0.5 Vmaxpu=3 enabled={enabled}'.format(\n",
    "    name='fve',\n",
    "    bus='705',\n",
    "    daily='fveLoad',\n",
    "    enabled=GENERATORS_ENABLED,\n",
    "    kw=0.02\n",
    "))\n",
    "dss.run_command('New Generator.{name} Bus1={bus} Phases=3 Conn=wye Model=1 kV=0.4  pf=0.98 kw={kw} daily={daily} Vminpu=0.5 Vmaxpu=3 enabled={enabled}'.format(\n",
    "    name='mve',\n",
    "    bus='701',\n",
    "    daily='mveLoad',\n",
    "    enabled=GENERATORS_ENABLED,\n",
    "    kw=0.06\n",
    "))\n",
    "dss.run_command('New Generator.{name} Bus1={bus} Phases=3 Conn=wye Model=1 kV=0.4  pf=0.98 kw={kw} daily={daily} Vminpu=0.5 Vmaxpu=3 enabled={enabled}'.format(\n",
    "    name='wpg',\n",
    "    bus='714',\n",
    "    daily='wpgLoad',\n",
    "    enabled=GENERATORS_ENABLED,\n",
    "    kw=0.06\n",
    "))\n",
    "\n",
    "dss.run_command('New Monitor.{name}  element=Line.{elementname}  ppolar=no mode=65 enabled={enabled}'.format(\n",
    "    name='trafo',\n",
    "    elementname='L1',\n",
    "    enabled='Yes'\n",
    "))\n",
    "dss.run_command('Set controlmode=time')\n",
    "dss.run_command('Set mode=daily ')\n",
    "dss.run_command('Set stepsize=15m')\n",
    "dss.run_command('Set number=2880')\n",
    "dss.run_command('Solve');\n",
    "x = dss.run_command('Export monitor object=trafo')\n",
    "df2 = pd.read_csv(x)"
   ]
  },
  {
   "cell_type": "code",
   "execution_count": 136,
   "metadata": {},
   "outputs": [
    {
     "data": {
      "text/html": [
       "<div>\n",
       "<style scoped>\n",
       "    .dataframe tbody tr th:only-of-type {\n",
       "        vertical-align: middle;\n",
       "    }\n",
       "\n",
       "    .dataframe tbody tr th {\n",
       "        vertical-align: top;\n",
       "    }\n",
       "\n",
       "    .dataframe thead th {\n",
       "        text-align: right;\n",
       "    }\n",
       "</style>\n",
       "<table border=\"1\" class=\"dataframe\">\n",
       "  <thead>\n",
       "    <tr style=\"text-align: right;\">\n",
       "      <th></th>\n",
       "      <th>hour</th>\n",
       "      <th>t(sec)</th>\n",
       "      <th>P1 (kW)</th>\n",
       "      <th>Q1 (kvar)</th>\n",
       "    </tr>\n",
       "  </thead>\n",
       "  <tbody>\n",
       "    <tr>\n",
       "      <th>0</th>\n",
       "      <td>0</td>\n",
       "      <td>900.0</td>\n",
       "      <td>-89.9159</td>\n",
       "      <td>-17.4160</td>\n",
       "    </tr>\n",
       "    <tr>\n",
       "      <th>1</th>\n",
       "      <td>0</td>\n",
       "      <td>1800.0</td>\n",
       "      <td>-107.7780</td>\n",
       "      <td>-20.9735</td>\n",
       "    </tr>\n",
       "    <tr>\n",
       "      <th>2</th>\n",
       "      <td>0</td>\n",
       "      <td>2700.0</td>\n",
       "      <td>-107.6190</td>\n",
       "      <td>-20.9543</td>\n",
       "    </tr>\n",
       "    <tr>\n",
       "      <th>3</th>\n",
       "      <td>1</td>\n",
       "      <td>0.0</td>\n",
       "      <td>-106.7980</td>\n",
       "      <td>-20.7913</td>\n",
       "    </tr>\n",
       "    <tr>\n",
       "      <th>4</th>\n",
       "      <td>1</td>\n",
       "      <td>900.0</td>\n",
       "      <td>-99.3031</td>\n",
       "      <td>-19.1889</td>\n",
       "    </tr>\n",
       "    <tr>\n",
       "      <th>...</th>\n",
       "      <td>...</td>\n",
       "      <td>...</td>\n",
       "      <td>...</td>\n",
       "      <td>...</td>\n",
       "    </tr>\n",
       "    <tr>\n",
       "      <th>2875</th>\n",
       "      <td>719</td>\n",
       "      <td>0.0</td>\n",
       "      <td>-121.8120</td>\n",
       "      <td>-23.7726</td>\n",
       "    </tr>\n",
       "    <tr>\n",
       "      <th>2876</th>\n",
       "      <td>719</td>\n",
       "      <td>900.0</td>\n",
       "      <td>-116.6560</td>\n",
       "      <td>-22.7551</td>\n",
       "    </tr>\n",
       "    <tr>\n",
       "      <th>2877</th>\n",
       "      <td>719</td>\n",
       "      <td>1800.0</td>\n",
       "      <td>-117.5060</td>\n",
       "      <td>-22.9126</td>\n",
       "    </tr>\n",
       "    <tr>\n",
       "      <th>2878</th>\n",
       "      <td>719</td>\n",
       "      <td>2700.0</td>\n",
       "      <td>-121.3770</td>\n",
       "      <td>-23.6881</td>\n",
       "    </tr>\n",
       "    <tr>\n",
       "      <th>2879</th>\n",
       "      <td>720</td>\n",
       "      <td>0.0</td>\n",
       "      <td>-118.8750</td>\n",
       "      <td>-23.1785</td>\n",
       "    </tr>\n",
       "  </tbody>\n",
       "</table>\n",
       "<p>2880 rows × 4 columns</p>\n",
       "</div>"
      ],
      "text/plain": [
       "      hour   t(sec)   P1 (kW)   Q1 (kvar)\n",
       "0        0    900.0  -89.9159    -17.4160\n",
       "1        0   1800.0 -107.7780    -20.9735\n",
       "2        0   2700.0 -107.6190    -20.9543\n",
       "3        1      0.0 -106.7980    -20.7913\n",
       "4        1    900.0  -99.3031    -19.1889\n",
       "...    ...      ...       ...         ...\n",
       "2875   719      0.0 -121.8120    -23.7726\n",
       "2876   719    900.0 -116.6560    -22.7551\n",
       "2877   719   1800.0 -117.5060    -22.9126\n",
       "2878   719   2700.0 -121.3770    -23.6881\n",
       "2879   720      0.0 -118.8750    -23.1785\n",
       "\n",
       "[2880 rows x 4 columns]"
      ]
     },
     "execution_count": 136,
     "metadata": {},
     "output_type": "execute_result"
    }
   ],
   "source": [
    "df2"
   ]
  },
  {
   "cell_type": "code",
   "execution_count": 145,
   "metadata": {},
   "outputs": [],
   "source": [
    "kw = df2[' P1 (kW)'][2*96:(2+1)*96]\n",
    "kw.index = range(0,96)\n",
    "plus = kw[kw > 0]\n",
    "minus = kw[kw <= 0].multiply(-1)"
   ]
  },
  {
   "cell_type": "code",
   "execution_count": 133,
   "metadata": {},
   "outputs": [
    {
     "data": {
      "text/plain": [
       "0     6.386330e-12\n",
       "1     6.386330e-12\n",
       "2     6.386330e-12\n",
       "3     6.386330e-12\n",
       "4     6.386330e-12\n",
       "          ...     \n",
       "91    6.386330e-12\n",
       "92    6.386330e-12\n",
       "93    6.386330e-12\n",
       "94    6.386330e-12\n",
       "95    6.386330e-12\n",
       "Name:  P1 (kW), Length: 96, dtype: float64"
      ]
     },
     "execution_count": 133,
     "metadata": {},
     "output_type": "execute_result"
    }
   ],
   "source": [
    "kw"
   ]
  },
  {
   "cell_type": "code",
   "execution_count": 146,
   "metadata": {},
   "outputs": [
    {
     "data": {
      "image/png": "[encoded data removed]",
      "text/plain": [
       "<Figure size 640x480 with 1 Axes>"
      ]
     },
     "metadata": {},
     "output_type": "display_data"
    }
   ],
   "source": [
    "\n",
    "\n",
    "\n",
    "p1 = plt.fill_between(plus.index,plus, 0, alpha=0.5,color=\"red\")\n",
    "p2 = plt.fill_between(minus.index[:34],minus[:34], 0, alpha=0.5,color=\"green\")\n",
    "p3 = plt.fill_between(minus.index[35:],minus[35:], 0, alpha=0.5,color=\"green\")\n",
    "\n",
    "red_patch = mpatches.Patch(color='red',alpha=0.5, label='Chýbajúca elektrická energia')\n",
    "green_patch = mpatches.Patch(color='green',alpha=0.5, label='Prebytočná elektrická energia')\n",
    "plt.legend(handles=[red_patch,green_patch],bbox_to_anchor = (1.55, 0.6))\n",
    "\n",
    "plt.xlabel(\"Meranie\")\n",
    "plt.ylabel(\"Výkon (kW)\")\n",
    "plt.title(\"Denný priebeh\")\n",
    "plt.savefig(\"graf_1.png\")\n",
    "plt.show()\n"
   ]
  }
 ],
 "metadata": {
  "kernelspec": {
   "display_name": "Python 3",
   "language": "python",
   "name": "python3"
  },
  "language_info": {
   "codemirror_mode": {
    "name": "ipython",
    "version": 3
   },
   "file_extension": ".py",
   "mimetype": "text/x-python",
   "name": "python",
   "nbconvert_exporter": "python",
   "pygments_lexer": "ipython3",
   "version": "3.8.11"
  }
 },
 "nbformat": 4,
 "nbformat_minor": 2
}
