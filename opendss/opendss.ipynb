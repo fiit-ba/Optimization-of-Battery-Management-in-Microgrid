{
 "cells": [
  {
   "cell_type": "code",
   "execution_count": 1,
   "metadata": {},
   "outputs": [],
   "source": [
    "import numpy as np \n",
    "import pandas as pd \n",
    "import matplotlib.pyplot as plt \n",
    "import seaborn as sns \n",
    "import scipy.stats as s\n",
    "import matplotlib.patches as mpatches\n",
    "import math\n",
    "import csv\n",
    "import os"
   ]
  },
  {
   "cell_type": "code",
   "execution_count": 2,
   "metadata": {},
   "outputs": [],
   "source": [
    "# import win32com.client\n",
    "# dssObj = win32com.client.Dispatch('OpenDSSEngine.DSS')\n",
    "# DSSText = dssObj.Text\n",
    "# DSSCircuit = dssObj.ActiveCircuit\n",
    "# DSSSolution = DSSCircuit.Solution\n",
    "# DSSElem = DSSCircuit.ActiveCktElement"
   ]
  },
  {
   "cell_type": "code",
   "execution_count": 3,
   "metadata": {},
   "outputs": [],
   "source": [
    "# DSSText.Command = \"CD c:\\\\Users\\\\william.brach\\\\Developer\\\\creating-microgrid-dataset\\\\opendss\""
   ]
  },
  {
   "cell_type": "code",
   "execution_count": 4,
   "metadata": {},
   "outputs": [],
   "source": [
    "# DSSText.Command = \"Compile 'microgrid.dss'\""
   ]
  },
  {
   "cell_type": "code",
   "execution_count": 5,
   "metadata": {},
   "outputs": [],
   "source": [
    "#DSSText.Command='Plot Loadshape Object=officeLoad'\n",
    "#DSSText.Command='Plot Loadshape Object=industrialParkLoad'\n",
    "#DSSText.Command='Plot Loadshape Object=shopsLoad'\n",
    "\n",
    "# DSSText.Command='Plot Loadshape Object=mveLoad'\n",
    "# DSSText.Command='Plot Loadshape Object=fveLoad'\n",
    "# DSSText.Command='Plot Loadshape Object=wpgLoad'\n"
   ]
  },
  {
   "cell_type": "markdown",
   "metadata": {},
   "source": [
    "## Batery"
   ]
  },
  {
   "cell_type": "code",
   "execution_count": 6,
   "metadata": {},
   "outputs": [],
   "source": [
    "# DSSText.Command= 'new storage.baterry bus=701 kV=0.4 Phases=3 kwRated=2000 kWhrated=50000 kWhstored=2000 vminpu=0.80 vmaxpu=1.20  %reserve=1  %effcharge=100   %effdischarge=100   %IdlingkW=0   enabled=yes';  \n",
    "# DSSText.Command= 'new StorageController.scbattery element=Line.L1  Terminal=1 Elementlist=[baterry]  modedischarge=Peakshave kWTarget=20 modeCharge=PeakShaveLow kWTargetlow=0   InhibitTime=1';\n"
   ]
  },
  {
   "cell_type": "markdown",
   "metadata": {},
   "source": [
    "## Monitors"
   ]
  },
  {
   "cell_type": "code",
   "execution_count": 7,
   "metadata": {},
   "outputs": [],
   "source": [
    "# # load monitors\n",
    "# DSSText.Command= 'New Monitor.metoffice  element=Load.officeBuilding  ppolar=no mode=65';\n",
    "# DSSText.Command= 'New Monitor.metshops  element=Load.shops  ppolar=no mode=65';\n",
    "# DSSText.Command= 'New Monitor.metpark element=Load.industrialPark  ppolar=no mode=65';\n",
    "# DSSText.Command= 'New Monitor.trafo  element=Line.L1  ppolar=no mode=65';\n",
    "# # batery monitor\n",
    "# # DSSText.Command= 'New Monitor.baterry  element=storage.baterry   mode=3';\n"
   ]
  },
  {
   "cell_type": "markdown",
   "metadata": {},
   "source": [
    "## Solution Settings"
   ]
  },
  {
   "cell_type": "code",
   "execution_count": 8,
   "metadata": {},
   "outputs": [],
   "source": [
    "# # # DSSSolution.MaxControlIterations=1000;\n",
    "# # # DSSSolution.maxiterations=1000;\n",
    "# DSSText.Command = 'Set controlmode=time' ;\n",
    "# DSSText.Command = 'Set mode=daily ';\n",
    "# DSSText.Command = 'Set stepsize=15m';\n",
    "# DSSText.Command = 'Set number=19968';\n",
    "# # #Originalsteps=DSSSolution.Number\n",
    "# # #Originalsteps"
   ]
  },
  {
   "cell_type": "code",
   "execution_count": 9,
   "metadata": {},
   "outputs": [],
   "source": [
    "# DSSSolution.Solve();"
   ]
  },
  {
   "cell_type": "markdown",
   "metadata": {},
   "source": [
    "## Plots"
   ]
  },
  {
   "cell_type": "code",
   "execution_count": 10,
   "metadata": {},
   "outputs": [],
   "source": [
    "# #DSSText.Command = 'Plot monitor object=metoffice';\n",
    "# #DSSText.Command = 'Plot monitor object=metshops';\n",
    "# #DSSText.Command = 'Plot monitor object=metpark';\n",
    "#DSSText.Command = 'Plot monitor object=trafo';\n",
    "\n",
    "# #DSSText.Command = 'Export monitor object=metoffice';\n",
    "# # DSSText.Command = 'Export monitor object=baterry';"
   ]
  },
  {
   "cell_type": "code",
   "execution_count": 11,
   "metadata": {},
   "outputs": [],
   "source": [
    "# DSSText.Command = 'Plot monitor object=baterry channels=(2,3,4)';\n",
    "# DSSText.Command = 'Plot monitor object=baterry channels=(1)';"
   ]
  },
  {
   "cell_type": "code",
   "execution_count": 12,
   "metadata": {},
   "outputs": [],
   "source": [
    "import opendssdirect as dss\n",
    "from opendssdirect.utils import run_command\n",
    "import types\n",
    "\n",
    "import inspect"
   ]
  },
  {
   "cell_type": "code",
   "execution_count": 13,
   "metadata": {},
   "outputs": [],
   "source": [
    "grid = run_command('Redirect  c:\\\\Users\\\\william.brach\\\\Developer\\\\creating-microgrid-dataset\\\\opendss');"
   ]
  },
  {
   "cell_type": "code",
   "execution_count": 14,
   "metadata": {},
   "outputs": [
    {
     "data": {
      "text/plain": [
       "''"
      ]
     },
     "execution_count": 14,
     "metadata": {},
     "output_type": "execute_result"
    }
   ],
   "source": [
    "run_command(\"Compile 'microgrid.dss'\")"
   ]
  },
  {
   "cell_type": "markdown",
   "metadata": {},
   "source": [
    "# LOADS"
   ]
  },
  {
   "cell_type": "code",
   "execution_count": 15,
   "metadata": {},
   "outputs": [
    {
     "data": {
      "text/plain": [
       "''"
      ]
     },
     "execution_count": 15,
     "metadata": {},
     "output_type": "execute_result"
    }
   ],
   "source": [
    "# Loads\n",
    "LOADS_ENABLED='Yes'\n",
    "dss.run_command('New Load.{name} Bus1={bus} Phases=3 Conn=wye Model=1 kV=0.4  pf=0.98  daily={daily} Vminpu=0.5 Vmaxpu=3 enabled={enabled}'.format(\n",
    "    name='officeBuilding',\n",
    "    bus='712',\n",
    "    daily='officeLoad',\n",
    "    enabled=LOADS_ENABLED\n",
    "))\n",
    "dss.run_command('New Load.{name} Bus1={bus} Phases=3 Conn=wye Model=1 kV=0.4  pf=0.98  daily={daily} Vminpu=0.5 Vmaxpu=3 enabled={enabled}'.format(\n",
    "    name='industrialPark',\n",
    "    bus='705',\n",
    "    daily='industrialParkLoad',\n",
    "    enabled=LOADS_ENABLED\n",
    "))\n",
    "dss.run_command('New Load.{name} Bus1={bus} Phases=3 Conn=wye Model=1 kV=0.4  pf=0.98  daily={daily} Vminpu=0.5 Vmaxpu=3 enabled={enabled}'.format(\n",
    "    name='shops',\n",
    "    bus='713',\n",
    "    daily='shopsLoad',\n",
    "    enabled=LOADS_ENABLED\n",
    "))"
   ]
  },
  {
   "cell_type": "markdown",
   "metadata": {},
   "source": [
    "# GENERATORS"
   ]
  },
  {
   "cell_type": "code",
   "execution_count": 16,
   "metadata": {},
   "outputs": [
    {
     "data": {
      "text/plain": [
       "''"
      ]
     },
     "execution_count": 16,
     "metadata": {},
     "output_type": "execute_result"
    }
   ],
   "source": [
    "GENERATORS_ENABLED='Yes'\n",
    "dss.run_command('New Generator.{name} Bus1={bus} Phases=3 Conn=wye Model=1 kV=0.4  pf=0.98 kw={kw} daily={daily} Vminpu=0.5 Vmaxpu=3 enabled={enabled}'.format(\n",
    "    name='fve',\n",
    "    bus='705',\n",
    "    daily='fveLoad',\n",
    "    enabled=GENERATORS_ENABLED,\n",
    "    kw=0.02\n",
    "))\n",
    "dss.run_command('New Generator.{name} Bus1={bus} Phases=3 Conn=wye Model=1 kV=0.4  pf=0.98 kw={kw} daily={daily} Vminpu=0.5 Vmaxpu=3 enabled={enabled}'.format(\n",
    "    name='mve',\n",
    "    bus='701',\n",
    "    daily='mveLoad',\n",
    "    enabled=GENERATORS_ENABLED,\n",
    "    kw=0.06\n",
    "))\n",
    "dss.run_command('New Generator.{name} Bus1={bus} Phases=3 Conn=wye Model=1 kV=0.4  pf=0.98 kw={kw} daily={daily} Vminpu=0.5 Vmaxpu=3 enabled={enabled}'.format(\n",
    "    name='wpg',\n",
    "    bus='714',\n",
    "    daily='wpgLoad',\n",
    "    enabled=GENERATORS_ENABLED,\n",
    "    kw=0.06\n",
    "))"
   ]
  },
  {
   "cell_type": "markdown",
   "metadata": {},
   "source": [
    "# BATERY"
   ]
  },
  {
   "cell_type": "code",
   "execution_count": 17,
   "metadata": {},
   "outputs": [
    {
     "data": {
      "text/plain": [
       "''"
      ]
     },
     "execution_count": 17,
     "metadata": {},
     "output_type": "execute_result"
    }
   ],
   "source": [
    "dss.run_command('new storage.baterry bus=701 kV=0.4 Phases=3 kwRated=50 kWhrated=200 kWhstored=50 vminpu=0.80 vmaxpu=1.20  %reserve=1  %effcharge=100   %effdischarge=100   %IdlingkW=0   enabled=yes')\n",
    "dss.run_command('new StorageController.scbattery element=Line.L1  Terminal=1 Elementlist=[baterry]  modedischarge=Peakshave kWTarget=20 modeCharge=PeakShaveLow kWTargetlow=0   InhibitTime=1')"
   ]
  },
  {
   "cell_type": "markdown",
   "metadata": {},
   "source": [
    "# MONITORS"
   ]
  },
  {
   "cell_type": "code",
   "execution_count": 18,
   "metadata": {},
   "outputs": [
    {
     "data": {
      "text/plain": [
       "''"
      ]
     },
     "execution_count": 18,
     "metadata": {},
     "output_type": "execute_result"
    }
   ],
   "source": [
    "# load monitors\n",
    "#New Monitor.metoffice  element=Load.officeBuilding  ppolar=no mode=65\n",
    "# dss.run_command('New Monitor.{name}  element=Load.{elementname}  ppolar=no mode=65 enabled={enabled}'.format(\n",
    "#     name='metoffice',\n",
    "#     elementname='officeBuilding',\n",
    "#     enabled='Yes'\n",
    "# ))\n",
    "# dss.run_command('New Monitor.{name}  element=Load.{elementname}  ppolar=no mode=65 enabled={enabled}'.format(\n",
    "#     name='metshops',\n",
    "#     elementname='shops',\n",
    "#     enabled='Yes'\n",
    "# ))\n",
    "# dss.run_command('New Monitor.{name}  element=Load.{elementname}  ppolar=no mode=65 enabled={enabled}'.format(\n",
    "#     name='metpark',\n",
    "#     elementname='industrialPark',\n",
    "#     enabled='Yes'\n",
    "# ))\n",
    "dss.run_command('New Monitor.{name}  element=Line.{elementname}  ppolar=no mode=65 enabled={enabled}'.format(\n",
    "    name='trafo',\n",
    "    elementname='L1',\n",
    "    enabled='Yes'\n",
    "))\n",
    "dss.run_command('New Monitor.baterry  element=storage.baterry   mode=3')"
   ]
  },
  {
   "cell_type": "code",
   "execution_count": 19,
   "metadata": {},
   "outputs": [
    {
     "data": {
      "text/plain": [
       "''"
      ]
     },
     "execution_count": 19,
     "metadata": {},
     "output_type": "execute_result"
    }
   ],
   "source": [
    "dss.run_command('Set controlmode=time')\n",
    "dss.run_command('Set mode=daily ')\n",
    "dss.run_command('Set stepsize=15m')\n",
    "dss.run_command('Set number=2880')"
   ]
  },
  {
   "cell_type": "code",
   "execution_count": 20,
   "metadata": {},
   "outputs": [],
   "source": [
    "dss.run_command('Solve');"
   ]
  },
  {
   "cell_type": "code",
   "execution_count": 21,
   "metadata": {},
   "outputs": [],
   "source": [
    "x = dss.run_command('Export monitor object=trafo')\n",
    "batery = dss.run_command('Export monitor object=baterry')"
   ]
  },
  {
   "cell_type": "code",
   "execution_count": 22,
   "metadata": {},
   "outputs": [
    {
     "data": {
      "text/plain": [
       "'C:\\\\Users\\\\william.brach\\\\Developer\\\\creating-microgrid-dataset\\\\opendss\\\\baterka_Mon_baterry.csv'"
      ]
     },
     "execution_count": 22,
     "metadata": {},
     "output_type": "execute_result"
    }
   ],
   "source": [
    "batery"
   ]
  },
  {
   "cell_type": "code",
   "execution_count": 23,
   "metadata": {
    "scrolled": true
   },
   "outputs": [],
   "source": [
    "df = pd.read_csv(x)\n",
    "batery = pd.read_csv(batery)"
   ]
  },
  {
   "cell_type": "code",
   "execution_count": 24,
   "metadata": {},
   "outputs": [
    {
     "data": {
      "text/plain": [
       "Index(['hour', ' t(sec)', ' P1 (kW)', ' Q1 (kvar)'], dtype='object')"
      ]
     },
     "execution_count": 24,
     "metadata": {},
     "output_type": "execute_result"
    }
   ],
   "source": [
    "df.columns"
   ]
  },
  {
   "cell_type": "code",
   "execution_count": 25,
   "metadata": {},
   "outputs": [],
   "source": [
    "priceDf = pd.read_csv(\"price.csv\",delimiter=';')\n",
    "price = priceDf[priceDf['Delivery day'] == '2.4.2021']['Price (€/MWh)']\n",
    "price = price.append(price)\n",
    "price = price.append(price)\n",
    "price = price.sort_index().reset_index().drop(columns={'index'})['Price (€/MWh)']"
   ]
  },
  {
   "cell_type": "code",
   "execution_count": 26,
   "metadata": {},
   "outputs": [],
   "source": [
    "# from matplotlib import cm\n",
    "# ax = plt.plot(range(0,96),kw.T,alpha=0.1,color=\"red\")\n",
    "# #ax = plt.plot(range(0,96),kwGenerator.T,alpha=0.1,color=\"green\")"
   ]
  },
  {
   "cell_type": "code",
   "execution_count": null,
   "metadata": {},
   "outputs": [],
   "source": []
  },
  {
   "cell_type": "code",
   "execution_count": 27,
   "metadata": {},
   "outputs": [],
   "source": [
    "kw = df[' P1 (kW)'][2*96:(2+1)*96]\n",
    "b = batery['kWOut'][2*96:(2+1)*96]\n",
    "b.index = range(0,96)\n",
    "kw.index = range(0,96)\n",
    "plus = kw[kw > 0]\n",
    "minus = kw[kw <= 0].multiply(-1)\n",
    "b = b.multiply(-1)"
   ]
  },
  {
   "cell_type": "code",
   "execution_count": 28,
   "metadata": {},
   "outputs": [
    {
     "data": {
      "image/png": "[encoded data removed]",
      "text/plain": [
       "<Figure size 432x288 with 1 Axes>"
      ]
     },
     "metadata": {
      "needs_background": "light"
     },
     "output_type": "display_data"
    }
   ],
   "source": [
    "from mpl_toolkits.axes_grid1 import host_subplot\n",
    "import mpl_toolkits.axisartist as AA\n",
    "import matplotlib.pyplot as plt\n",
    "\n",
    "host = host_subplot(111, axes_class=AA.Axes)\n",
    "plt.subplots_adjust(right=0.75)\n",
    "\n",
    "par1 = host.twinx()\n",
    "par2 = host.twinx()\n",
    "\n",
    "offset = 60\n",
    "new_fixed_axis = par2.get_grid_helper().new_fixed_axis\n",
    "par2.axis[\"right\"] = new_fixed_axis(loc=\"right\", axes=par2,\n",
    "                                        offset=(offset, 0))\n",
    "\n",
    "par2.axis[\"right\"].toggle(all=True)\n",
    "\n",
    "# host.set_xlim(-5, 100)\n",
    "# host.set_ylim(-150, 120)\n",
    "\n",
    "host.set_xlabel(\"Time\")\n",
    "host.set_ylabel(\"kW\")\n",
    "par1.set_ylabel(\"Temperature\")\n",
    "par2.set_ylabel(\"Price\")\n",
    "\n",
    "\n",
    "p1 = plt.fill_between(plus.index,plus, 0, alpha=0.5, color='red')\n",
    "p2 = plt.fill_between(minus.index,minus, 0, alpha=0.5, color='green')\n",
    "p3 = plt.plot(price,color='yellow')\n",
    "p4 = plt.plot(b,color=\"blue\")\n",
    "par1.set_ylim(0, 4)\n",
    "par2.set_ylim(min(price), max(price))\n",
    "\n",
    "\n",
    "plt.draw()\n",
    "plt.savefig('production_comsuption_batery_prod.png')\n",
    "plt.show()\n"
   ]
  },
  {
   "cell_type": "code",
   "execution_count": 29,
   "metadata": {},
   "outputs": [],
   "source": [
    "df = dss.utils.lines_to_dataframe()\n",
    "\n",
    "def create_graph(phase=1):\n",
    "    G = nx.Graph()\n",
    "\n",
    "    data = df[['Bus1', 'Bus2']].to_dict(orient=\"index\")\n",
    "\n",
    "    for name in data:\n",
    "        line = data[name]\n",
    "        if f\".{phase}\" in line[\"Bus1\"] and f\".{phase}\" in line[\"Bus2\"]:\n",
    "            G.add_edge(line[\"Bus1\"].split(\".\")[0], line[\"Bus2\"].split(\".\")[0])\n",
    "\n",
    "    pos = {}\n",
    "    for name in dss.Circuit.AllBusNames():\n",
    "        dss.Circuit.SetActiveBus(f\"{name}\")\n",
    "        if phase in dss.Bus.Nodes():\n",
    "            index = dss.Bus.Nodes().index(phase)\n",
    "            re, im = dss.Bus.PuVoltage()[index:index+2]\n",
    "            V = abs(complex(re, im))\n",
    "            D = dss.Bus.Distance()\n",
    "\n",
    "            pos[dss.Bus.Name()] = (D, V)\n",
    "\n",
    "    return G, pos\n"
   ]
  },
  {
   "cell_type": "code",
   "execution_count": 30,
   "metadata": {},
   "outputs": [
    {
     "data": {
      "image/png": "[encoded data removed]",
      "text/plain": [
       "<Figure size 1152x720 with 1 Axes>"
      ]
     },
     "metadata": {},
     "output_type": "display_data"
    }
   ],
   "source": [
    "import networkx as nx\n",
    "fig, axs = plt.subplots(1, 1, figsize=(16, 10))\n",
    "#https://dss-extensions.org/OpenDSSDirect.py/notebooks/VoltageProfilePlot.html?highlight=plot\n",
    "#https://dss-extensions.org/OpenDSSDirect.py/opendssdirect.html?highlight=maxiterations#module-opendssdirect.utils\n",
    "#https://dss-extensions.org/OpenDSSDirect.py/notebooks/GettingStarted.html\n",
    "ax = axs\n",
    "G, pos = create_graph(phase=1)\n",
    "nx.draw_networkx_nodes(G, pos, ax=ax, labels={x: x for x in G.nodes()})\n",
    "nx.draw_networkx_labels(G, pos, ax=ax, labels={x: x for x in G.nodes()})\n",
    "nx.draw_networkx_edges(G, pos, ax=ax, labels={x: x for x in G.nodes()})\n",
    "\n",
    "ax.grid()\n",
    "ax.set_ylabel(\"Voltage in p.u.\")\n",
    "ax.set_xlabel(\"Distances in km\")\n",
    "ax.set_title(\"Voltage profile plot for phase A\");"
   ]
  }
 ],
 "metadata": {
  "kernelspec": {
   "display_name": "Python 3",
   "language": "python",
   "name": "python3"
  },
  "language_info": {
   "codemirror_mode": {
    "name": "ipython",
    "version": 3
   },
   "file_extension": ".py",
   "mimetype": "text/x-python",
   "name": "python",
   "nbconvert_exporter": "python",
   "pygments_lexer": "ipython3",
   "version": "3.8.8"
  }
 },
 "nbformat": 4,
 "nbformat_minor": 2
}
