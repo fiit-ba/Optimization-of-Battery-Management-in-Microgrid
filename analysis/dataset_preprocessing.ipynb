{
 "cells": [
  {
   "cell_type": "code",
   "execution_count": 39,
   "id": "d51cb59d",
   "metadata": {},
   "outputs": [],
   "source": [
    "import pandas as pd\n",
    "import numpy as np\n",
    "import holidays\n",
    "from xgboost import XGBRegressor\n",
    "from sklearn.model_selection import train_test_split\n",
    "from sklearn.preprocessing import MinMaxScaler\n",
    "from sklearn.metrics import auc, accuracy_score, confusion_matrix, mean_squared_error"
   ]
  },
  {
   "cell_type": "code",
   "execution_count": 2,
   "id": "8c4e0902",
   "metadata": {},
   "outputs": [],
   "source": [
    "df = pd.read_csv(\"../data/dataset.csv\",index_col=0)\n",
    "df['date'] = pd.to_datetime(df['date'], format='%d/%m/%Y %H:%M')"
   ]
  },
  {
   "cell_type": "code",
   "execution_count": 3,
   "id": "016a270b",
   "metadata": {},
   "outputs": [],
   "source": [
    "df['isWeekend'] = df['date'].apply(lambda x : 1 if x.weekday() > 4 else 0)"
   ]
  },
  {
   "cell_type": "code",
   "execution_count": 4,
   "id": "7a5e7d40",
   "metadata": {},
   "outputs": [],
   "source": [
    "slovakia_holidays = holidays.Slovakia()\n",
    "df['isHoliday'] = df['date'].apply(lambda x : 1 if x in slovakia_holidays else 0)"
   ]
  },
  {
   "cell_type": "code",
   "execution_count": 5,
   "id": "c1119814",
   "metadata": {},
   "outputs": [],
   "source": [
    "df['production_usage'] = df['fve'] + df['wpg'] + df['mve']\n",
    "df['consumption_usage'] = df['shops'] + df['office_building'] + df['industrial_park']"
   ]
  },
  {
   "cell_type": "code",
   "execution_count": 6,
   "id": "69fd781a",
   "metadata": {},
   "outputs": [],
   "source": [
    "tmp = pd.read_csv(\"../data/poland_temperature.csv\")"
   ]
  },
  {
   "cell_type": "code",
   "execution_count": 17,
   "id": "9cc94eda",
   "metadata": {},
   "outputs": [],
   "source": [
    "temp = pd.DataFrame(np.repeat(tmp['Ambient Temperature (C)'], 4), columns=tmp.columns)\n",
    "temp = temp.reset_index(drop=True)\n",
    "wind = pd.DataFrame(np.repeat(tmp['Wind Speed (m/s)'], 4), columns=tmp.columns)\n",
    "wind = wind.reset_index(drop=True)\n",
    "df['temp'] = temp['Ambient Temperature (C)']\n",
    "df['wind'] = wind['Wind Speed (m/s)']"
   ]
  },
  {
   "cell_type": "code",
   "execution_count": 21,
   "id": "be9c1c05",
   "metadata": {},
   "outputs": [],
   "source": [
    "df['hour'] = [x.hour for x in df['date']]\n",
    "df['day'] = [x.day for x in df['date']]\n",
    "df['month'] = [x.month for x in df['date']]\n",
    "df['day_cos'] = [np.cos(x * (2 * np.pi / 24)) for x in df['hour']]\n",
    "df['day_sin'] = [np.sin(x * (2 * np.pi / 24)) for x in df['hour']]\n",
    "df['timestamp'] = [x.timestamp() for x in df['date']]\n",
    "s = 24 * 60 * 60 \n",
    "year = (365.25) * s\n",
    "df['month_cos'] = [np.cos((x) * (2 * np.pi / year)) for x in df['timestamp']]\n",
    "df['month_sin'] = [np.sin((x) * (2 * np.pi / year)) for x in df['timestamp']]"
   ]
  },
  {
   "cell_type": "code",
   "execution_count": 36,
   "id": "7079af43",
   "metadata": {},
   "outputs": [],
   "source": [
    "df['price'] = df['price'].apply(lambda x : float(x.replace(\",\",\".\")))"
   ]
  },
  {
   "cell_type": "code",
   "execution_count": 57,
   "id": "a7beb22d",
   "metadata": {},
   "outputs": [
    {
     "data": {
      "text/plain": [
       "XGBRegressor(base_score=0.5, booster='gbtree', colsample_bylevel=1,\n",
       "             colsample_bynode=1, colsample_bytree=1, gamma=0, gpu_id=-1,\n",
       "             importance_type='gain', interaction_constraints='',\n",
       "             learning_rate=0.300000012, max_delta_step=0, max_depth=6,\n",
       "             min_child_weight=1, missing=nan, monotone_constraints='()',\n",
       "             n_estimators=100, n_jobs=8, num_parallel_tree=1, random_state=22,\n",
       "             reg_alpha=0, reg_lambda=1, scale_pos_weight=1, subsample=1,\n",
       "             tree_method='exact', validate_parameters=1, verbosity=None)"
      ]
     },
     "execution_count": 57,
     "metadata": {},
     "output_type": "execute_result"
    }
   ],
   "source": [
    "X = ['price', 'isWeekend', 'isHoliday', 'temp', 'wind','day_cos','day_sin','month_cos', 'month_sin']\n",
    "y = 'shops'\n",
    "\n",
    "shops_df = df[df['shops'] != 0]\n",
    "X_train, X_test, y_train, y_test = train_test_split(shops_df[X], shops_df[y], test_size=0.2,random_state=22)\n",
    "\n",
    "scaler = MinMaxScaler()\n",
    "X_train = scaler.fit_transform(X_train)\n",
    "X_test = scaler.transform(X_test)\n",
    "xgb_model = XGBRegressor(objective=\"reg:squarederror\", random_state=22)\n",
    "xgb_model.fit(X_train, y_train)\n",
    "shops_missing = df[df['shops'] == 0]\n",
    "shops_missing = shops_missing[X]\n",
    "X_missing = scaler.transform(shops_missing)\n",
    "df.loc[df['shops'] == 0,'shops'] = xgb_model.predict(X_missing)"
   ]
  },
  {
   "cell_type": "code",
   "execution_count": 61,
   "id": "8990714d",
   "metadata": {},
   "outputs": [],
   "source": [
    "X = ['price', 'isWeekend', 'isHoliday', 'temp', 'wind','day_cos','day_sin','month_cos', 'month_sin']\n",
    "y = 'industrial_park'\n",
    "\n",
    "shops_df = df[df['industrial_park'] != 0]\n",
    "X_train, X_test, y_train, y_test = train_test_split(shops_df[X], shops_df[y], test_size=0.2,random_state=22)\n",
    "\n",
    "scaler = MinMaxScaler()\n",
    "X_train = scaler.fit_transform(X_train)\n",
    "X_test = scaler.transform(X_test)\n",
    "xgb_model = XGBRegressor(objective=\"reg:squarederror\", random_state=22)\n",
    "xgb_model.fit(X_train, y_train)\n",
    "shops_missing = df[df['industrial_park'] == 0]\n",
    "shops_missing = shops_missing[X]\n",
    "X_missing = scaler.transform(shops_missing)\n",
    "df.loc[df['industrial_park'] == 0,'industrial_park'] = xgb_model.predict(X_missing)"
   ]
  },
  {
   "cell_type": "code",
   "execution_count": 64,
   "id": "b851cd46",
   "metadata": {},
   "outputs": [],
   "source": [
    "df.to_csv(\"../data/data_processed.csv\",index=False)"
   ]
  }
 ],
 "metadata": {
  "kernelspec": {
   "display_name": "Python 3",
   "language": "python",
   "name": "python3"
  },
  "language_info": {
   "codemirror_mode": {
    "name": "ipython",
    "version": 3
   },
   "file_extension": ".py",
   "mimetype": "text/x-python",
   "name": "python",
   "nbconvert_exporter": "python",
   "pygments_lexer": "ipython3",
   "version": "3.8.11"
  }
 },
 "nbformat": 4,
 "nbformat_minor": 5
}
